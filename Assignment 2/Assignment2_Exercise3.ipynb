{
 "cells": [
  {
   "cell_type": "markdown",
   "metadata": {
    "id": "A68QoSKce0Z6"
   },
   "source": [
    "# Assignment 2: DM for Networks\n",
    "Exercise 3\n",
    "\n",
    "authors:\n",
    "\n",
    "Lynda Attouche ~  Lenny Klump"
   ]
  },
  {
   "cell_type": "code",
   "execution_count": 1,
   "metadata": {
    "id": "pYaRRdYgddG1"
   },
   "outputs": [],
   "source": [
    "import numpy as np\n",
    "import matplotlib.pyplot as plt\n",
    "import matplotlib.cm as cm\n",
    "plt.ion()\n",
    "import sklearn\n",
    "import random\n",
    "import networkx as nx\n",
    "import random\n",
    "import string"
   ]
  },
  {
   "cell_type": "markdown",
   "metadata": {
    "id": "55dVMPelen0E"
   },
   "source": [
    "## Some tests of networkx"
   ]
  },
  {
   "cell_type": "code",
   "execution_count": 2,
   "metadata": {
    "id": "8IefnC2Zdeu1"
   },
   "outputs": [],
   "source": [
    "G1 = nx.Graph()\n",
    "G2 = nx.Graph()\n",
    "G1.add_edge(0,2,weight=2)\n",
    "G1.add_edge(2,4,weight=1)\n",
    "G1.add_edge(8,6,weight=3)\n",
    "G1.add_edge(1,2,weight=5)\n",
    "\n",
    "G2.add_edge(0,3,weight=2)\n",
    "G2.add_edge(2,3,weight=2)\n",
    "G2.add_edge(4,2,weight=4)\n",
    "G2.add_edge(5,3,weight=0)\n"
   ]
  },
  {
   "cell_type": "code",
   "execution_count": 3,
   "metadata": {
    "colab": {
     "base_uri": "https://localhost:8080/",
     "height": 319
    },
    "id": "EjtEYwHjdh4L",
    "outputId": "83ea315a-b080-4611-c96f-1c5faf833a19"
   },
   "outputs": [
    {
     "data": {
      "image/png": "[encoded data removed]",
      "text/plain": [
       "<Figure size 432x288 with 1 Axes>"
      ]
     },
     "metadata": {},
     "output_type": "display_data"
    }
   ],
   "source": [
    "nx.draw(G2, with_labels=True, font_weight='bold')\n",
    "nx.draw(G1, with_labels=True,node_color='g')"
   ]
  },
  {
   "cell_type": "markdown",
   "metadata": {
    "id": "xe8DPKArerZo"
   },
   "source": [
    "## Implementing edit distance"
   ]
  },
  {
   "cell_type": "code",
   "execution_count": 4,
   "metadata": {
    "id": "sHlHrufMLEyE"
   },
   "outputs": [],
   "source": [
    "def editDistance(G1,G2):\n",
    "  seen = []\n",
    "  d = 0.0\n",
    "  nodes2 = list(G2.nodes())\n",
    "  nodes1 = list(G1.nodes())\n",
    "  gsuper = nx.empty_graph()\n",
    "  tmp = []\n",
    "  #test if the graphs are isomorphic, if so, the distance = 0\n",
    "  if nx.is_isomorphic(G1,G2):\n",
    "    return 0.0\n",
    "\n",
    "  #loop until visiting all nodes in G2\n",
    "  while not (set(seen).issubset(list(G2.nodes())) and  len(seen)==len(list(G2.nodes()))):\n",
    "    #building sub graph (sequence of operations)\n",
    "    gtmp = G1.copy()\n",
    "\n",
    "    #adding node\n",
    "    #add random node from G2 if possible\n",
    "    n2 = random.choice(nodes2)\n",
    "    seen.append(n2)\n",
    "    #if the subgraph contains the node, we do not add it otherwise we do\n",
    "    if not(gtmp.has_node(n2)):\n",
    "      gtmp.add_node(n2)\n",
    "\n",
    "        \n",
    "    #deleting nodes\n",
    "    #delete node randomly if possible\n",
    "    n1 = random.choice(nodes1)\n",
    "    #check if the node is not in G2 otherwise we do not delete, and check if it is in G1 so we can delete\n",
    "    if not(G2.has_node(n1)) and (gtmp.has_node(n1)):\n",
    "      gtmp.remove_node(n1)\n",
    "\n",
    "\n",
    "    #adding edge:\n",
    "    #for each node of the subgraph\n",
    "    for n in gtmp.nodes():\n",
    "      #for each neighbor of this node\n",
    "      for neighb in gtmp.nodes():\n",
    "        #if there is an edge between the 2 in G2 and not in gtmp, we add it\n",
    "        if (G2.has_edge(n,neighb)) and not(gtmp.has_edge(n,neighb)):\n",
    "          gtmp.add_edge(n,neighb)\n",
    "          break\n",
    "            \n",
    "\n",
    "    #removingedge:\n",
    "    #for each node in subgraph\n",
    "    for n in gtmp.nodes():\n",
    "      #for each negihbor\n",
    "      for neighb in gtmp.nodes():\n",
    "        #if there isn't an edge between them in G2 but there is one in the subgraph, we remove it\n",
    "        if not(G2.has_edge(n,neighb)) and (gtmp.has_edge(n,neighb)):\n",
    "          gtmp.remove_edge(n,neighb)\n",
    "          break\n",
    "\n",
    "    #print(len(gtmp))\n",
    "    #add each subgraph to tmp\n",
    "    tmp.append(gtmp)\n",
    "\n",
    "  #we add the subgraph as a subgraph of the super graph (as a node)\n",
    "  for sub in tmp:\n",
    "      gsuper.add_edges_from(sub.edges())\n",
    "      gsuper.add_nodes_from(sub.nodes())\n",
    "\n",
    "  #compute optimal path with dijkstra\n",
    "  idx= 0\n",
    "  idx = nx.dijkstra_path(gsuper,0,len(gsuper.edges())+1)\n",
    "  d = len(idx)\n",
    "\n",
    "  return d,gsuper"
   ]
  },
  {
   "cell_type": "markdown",
   "metadata": {
    "id": "e-WfQ38TevKU"
   },
   "source": [
    "## Tests of the edit distance on some graphs"
   ]
  },
  {
   "cell_type": "code",
   "execution_count": 5,
   "metadata": {
    "colab": {
     "base_uri": "https://localhost:8080/",
     "height": 337
    },
    "id": "nXXM-mvVRJSd",
    "outputId": "06b1a203-8df1-44e1-d171-779cbebb756f"
   },
   "outputs": [
    {
     "name": "stdout",
     "output_type": "stream",
     "text": [
      "The edit distance of the 2 graphs is:  4\n"
     ]
    },
    {
     "data": {
      "image/png": "[encoded data removed]",
      "text/plain": [
       "<Figure size 432x288 with 1 Axes>"
      ]
     },
     "metadata": {},
     "output_type": "display_data"
    }
   ],
   "source": [
    "d,gsuper = editDistance(G1,G2)\n",
    "print(\"The edit distance of the 2 graphs is: \",d)\n",
    "nx.draw(gsuper, with_labels=True,node_color='g')"
   ]
  },
  {
   "cell_type": "code",
   "execution_count": 6,
   "metadata": {
    "colab": {
     "base_uri": "https://localhost:8080/"
    },
    "id": "W-sTPFRnUPnX",
    "outputId": "44ed79c9-b9d2-4201-e9e7-232a02d1d5b3"
   },
   "outputs": [
    {
     "name": "stdout",
     "output_type": "stream",
     "text": [
      "Edit distance with networkx is: 3.0\n"
     ]
    }
   ],
   "source": [
    "print('Edit distance with networkx is:',nx.graph_edit_distance(G1, G2))"
   ]
  },
  {
   "cell_type": "code",
   "execution_count": null,
   "metadata": {
    "id": "MF4P4YSi7QAi"
   },
   "outputs": [],
   "source": [
    "#example 2\n",
    "G3,G4 = nx.Graph(),nx.Graph()\n",
    " \n",
    "G3.add_edges_from([(0, 2),(2, 3),(3, 4),(1, 4),(1, 5)])\n",
    "G4.add_edges_from([(1, 5),(5, 6),(5, 7),(4, 8),(3, 8)])\n",
    "d_,gsuper_ = editDistance(G3,G4)\n",
    "print(\"The edit distance of the 2 graphs is: \",d_)\n",
    "nx.draw(gsuper, with_labels=True,node_color='g')\n",
    "print('Edit distance with networkx is:',nx.graph_edit_distance(G3, G4))"
   ]
  },
  {
   "cell_type": "markdown",
   "metadata": {
    "id": "lBLVhQ3o6hHs"
   },
   "source": [
    "## Comment:\n",
    "Following a comparison with the results with the edit_distance function of networkx, we notice that the results obtained with our function are incorrect. We think that this is due to our misunderstanding of the algorithm and the fact of not having taken into account the substitutions. We did not do it, because we did not understand well this notion, we do not know how to substitute a node (with respect to its label or color or weight)\n"
   ]
  },
  {
   "cell_type": "code",
   "execution_count": null,
   "metadata": {
    "id": "Jxabj0R36glO"
   },
   "outputs": [],
   "source": []
  }
 ],
 "metadata": {
  "colab": {
   "collapsed_sections": [],
   "name": "Exercise3.ipynb",
   "provenance": []
  },
  "kernelspec": {
   "display_name": "Python 3 (ipykernel)",
   "language": "python",
   "name": "python3"
  },
  "language_info": {
   "codemirror_mode": {
    "name": "ipython",
    "version": 3
   },
   "file_extension": ".py",
   "mimetype": "text/x-python",
   "name": "python",
   "nbconvert_exporter": "python",
   "pygments_lexer": "ipython3",
   "version": "3.8.12"
  }
 },
 "nbformat": 4,
 "nbformat_minor": 1
}
